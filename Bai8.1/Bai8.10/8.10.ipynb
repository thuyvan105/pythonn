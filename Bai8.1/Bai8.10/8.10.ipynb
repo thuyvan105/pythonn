def  append_middle ( s1 , s2 ):
    print ( "Chuỗi lệnh ban đầu là" , s1 , s2 )
    # only number between of s1
    mi  =  int ( len ( s1 ) / 2 )

    # get character from 0 to only number between from s1
    x  =  s1 [: mi :]
    # Nối s2 với nó
    x  +=  s2
    # Nối lại ký tự còn lại từ s1
    x  +=  s1 [ mi :]
    print ( "Sau khi thêm chuỗi mới vào giữa:" ,    x )

append_middle ( "abc" , "ccc" )
